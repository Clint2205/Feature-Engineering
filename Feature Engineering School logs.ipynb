{
 "cells": [
  {
   "cell_type": "markdown",
   "id": "68d79baf-e644-42cb-a713-9b89caeb0163",
   "metadata": {},
   "source": [
    "## Feature Engineering ##"
   ]
  },
  {
   "cell_type": "code",
   "execution_count": 1,
   "id": "56384f49-3b1c-4120-b719-0f06d45a78f3",
   "metadata": {},
   "outputs": [],
   "source": [
    "import pandas as pd\n",
    "import matplotlib.pyplot as plt\n",
    "import seaborn as sns\n",
    "\n",
    "#loading data\n",
    "student_logs = pd.read_csv('logs.csv')\n",
    "student_scores = pd.read_csv('scores.csv')"
   ]
  },
  {
   "cell_type": "code",
   "execution_count": 2,
   "id": "a288f478-fba8-4ee7-bf9b-ff528a802d3a",
   "metadata": {},
   "outputs": [
    {
     "data": {
      "text/html": [
       "<div>\n",
       "<style scoped>\n",
       "    .dataframe tbody tr th:only-of-type {\n",
       "        vertical-align: middle;\n",
       "    }\n",
       "\n",
       "    .dataframe tbody tr th {\n",
       "        vertical-align: top;\n",
       "    }\n",
       "\n",
       "    .dataframe thead th {\n",
       "        text-align: right;\n",
       "    }\n",
       "</style>\n",
       "<table border=\"1\" class=\"dataframe\">\n",
       "  <thead>\n",
       "    <tr style=\"text-align: right;\">\n",
       "      <th></th>\n",
       "      <th>StudentId</th>\n",
       "      <th>Time</th>\n",
       "      <th>Type</th>\n",
       "      <th>Action</th>\n",
       "    </tr>\n",
       "  </thead>\n",
       "  <tbody>\n",
       "    <tr>\n",
       "      <th>0</th>\n",
       "      <td>72af</td>\n",
       "      <td>28/05/23, 10:51</td>\n",
       "      <td>User report</td>\n",
       "      <td>Grade user report viewed</td>\n",
       "    </tr>\n",
       "    <tr>\n",
       "      <th>1</th>\n",
       "      <td>72af</td>\n",
       "      <td>28/05/23, 10:51</td>\n",
       "      <td>System</td>\n",
       "      <td>Course viewed</td>\n",
       "    </tr>\n",
       "    <tr>\n",
       "      <th>2</th>\n",
       "      <td>c426</td>\n",
       "      <td>27/05/23, 15:53</td>\n",
       "      <td>System</td>\n",
       "      <td>Course viewed</td>\n",
       "    </tr>\n",
       "    <tr>\n",
       "      <th>3</th>\n",
       "      <td>0326</td>\n",
       "      <td>26/05/23, 22:22</td>\n",
       "      <td>System</td>\n",
       "      <td>Course viewed</td>\n",
       "    </tr>\n",
       "    <tr>\n",
       "      <th>4</th>\n",
       "      <td>8b7a</td>\n",
       "      <td>26/05/23, 21:52</td>\n",
       "      <td>System</td>\n",
       "      <td>Course viewed</td>\n",
       "    </tr>\n",
       "    <tr>\n",
       "      <th>...</th>\n",
       "      <td>...</td>\n",
       "      <td>...</td>\n",
       "      <td>...</td>\n",
       "      <td>...</td>\n",
       "    </tr>\n",
       "    <tr>\n",
       "      <th>83202</th>\n",
       "      <td>e2e7</td>\n",
       "      <td>12/09/22, 21:30</td>\n",
       "      <td>System</td>\n",
       "      <td>Course viewed</td>\n",
       "    </tr>\n",
       "    <tr>\n",
       "      <th>83203</th>\n",
       "      <td>e2e7</td>\n",
       "      <td>12/09/22, 21:17</td>\n",
       "      <td>URL</td>\n",
       "      <td>Course module viewed</td>\n",
       "    </tr>\n",
       "    <tr>\n",
       "      <th>83204</th>\n",
       "      <td>e2e7</td>\n",
       "      <td>12/09/22, 21:16</td>\n",
       "      <td>System</td>\n",
       "      <td>Course viewed</td>\n",
       "    </tr>\n",
       "    <tr>\n",
       "      <th>83205</th>\n",
       "      <td>e2e7</td>\n",
       "      <td>12/09/22, 21:16</td>\n",
       "      <td>System</td>\n",
       "      <td>Course viewed</td>\n",
       "    </tr>\n",
       "    <tr>\n",
       "      <th>83206</th>\n",
       "      <td>e2e7</td>\n",
       "      <td>12/09/22, 21:15</td>\n",
       "      <td>System</td>\n",
       "      <td>Course viewed</td>\n",
       "    </tr>\n",
       "  </tbody>\n",
       "</table>\n",
       "<p>83207 rows × 4 columns</p>\n",
       "</div>"
      ],
      "text/plain": [
       "      StudentId             Time         Type                    Action\n",
       "0          72af  28/05/23, 10:51  User report  Grade user report viewed\n",
       "1          72af  28/05/23, 10:51       System             Course viewed\n",
       "2          c426  27/05/23, 15:53       System             Course viewed\n",
       "3          0326  26/05/23, 22:22       System             Course viewed\n",
       "4          8b7a  26/05/23, 21:52       System             Course viewed\n",
       "...         ...              ...          ...                       ...\n",
       "83202      e2e7  12/09/22, 21:30       System             Course viewed\n",
       "83203      e2e7  12/09/22, 21:17          URL      Course module viewed\n",
       "83204      e2e7  12/09/22, 21:16       System             Course viewed\n",
       "83205      e2e7  12/09/22, 21:16       System             Course viewed\n",
       "83206      e2e7  12/09/22, 21:15       System             Course viewed\n",
       "\n",
       "[83207 rows x 4 columns]"
      ]
     },
     "execution_count": 2,
     "metadata": {},
     "output_type": "execute_result"
    }
   ],
   "source": [
    "student_logs"
   ]
  },
  {
   "cell_type": "code",
   "execution_count": 3,
   "id": "763bc890-1750-4f25-a5f7-5142deb98be8",
   "metadata": {},
   "outputs": [
    {
     "data": {
      "text/html": [
       "<div>\n",
       "<style scoped>\n",
       "    .dataframe tbody tr th:only-of-type {\n",
       "        vertical-align: middle;\n",
       "    }\n",
       "\n",
       "    .dataframe tbody tr th {\n",
       "        vertical-align: top;\n",
       "    }\n",
       "\n",
       "    .dataframe thead th {\n",
       "        text-align: right;\n",
       "    }\n",
       "</style>\n",
       "<table border=\"1\" class=\"dataframe\">\n",
       "  <thead>\n",
       "    <tr style=\"text-align: right;\">\n",
       "      <th></th>\n",
       "      <th>StudentId</th>\n",
       "      <th>Grade</th>\n",
       "    </tr>\n",
       "  </thead>\n",
       "  <tbody>\n",
       "    <tr>\n",
       "      <th>0</th>\n",
       "      <td>c426</td>\n",
       "      <td>2nd</td>\n",
       "    </tr>\n",
       "    <tr>\n",
       "      <th>1</th>\n",
       "      <td>8de3</td>\n",
       "      <td>2nd</td>\n",
       "    </tr>\n",
       "    <tr>\n",
       "      <th>2</th>\n",
       "      <td>d969</td>\n",
       "      <td>2nd</td>\n",
       "    </tr>\n",
       "    <tr>\n",
       "      <th>3</th>\n",
       "      <td>6d29</td>\n",
       "      <td>1st</td>\n",
       "    </tr>\n",
       "    <tr>\n",
       "      <th>4</th>\n",
       "      <td>1dd9</td>\n",
       "      <td>1st</td>\n",
       "    </tr>\n",
       "    <tr>\n",
       "      <th>...</th>\n",
       "      <td>...</td>\n",
       "      <td>...</td>\n",
       "    </tr>\n",
       "    <tr>\n",
       "      <th>100</th>\n",
       "      <td>9673</td>\n",
       "      <td>3rd</td>\n",
       "    </tr>\n",
       "    <tr>\n",
       "      <th>101</th>\n",
       "      <td>5867</td>\n",
       "      <td>3rd</td>\n",
       "    </tr>\n",
       "    <tr>\n",
       "      <th>102</th>\n",
       "      <td>8976</td>\n",
       "      <td>2nd</td>\n",
       "    </tr>\n",
       "    <tr>\n",
       "      <th>103</th>\n",
       "      <td>56fe</td>\n",
       "      <td>Fail</td>\n",
       "    </tr>\n",
       "    <tr>\n",
       "      <th>104</th>\n",
       "      <td>1d56</td>\n",
       "      <td>2nd</td>\n",
       "    </tr>\n",
       "  </tbody>\n",
       "</table>\n",
       "<p>105 rows × 2 columns</p>\n",
       "</div>"
      ],
      "text/plain": [
       "    StudentId Grade\n",
       "0        c426   2nd\n",
       "1        8de3   2nd\n",
       "2        d969   2nd\n",
       "3        6d29   1st\n",
       "4        1dd9   1st\n",
       "..        ...   ...\n",
       "100      9673   3rd\n",
       "101      5867   3rd\n",
       "102      8976   2nd\n",
       "103      56fe  Fail\n",
       "104      1d56   2nd\n",
       "\n",
       "[105 rows x 2 columns]"
      ]
     },
     "execution_count": 3,
     "metadata": {},
     "output_type": "execute_result"
    }
   ],
   "source": [
    "student_scores"
   ]
  },
  {
   "cell_type": "code",
   "execution_count": 4,
   "id": "6d75054a-b62f-44bc-9b55-5ff6590c5850",
   "metadata": {},
   "outputs": [
    {
     "name": "stdout",
     "output_type": "stream",
     "text": [
      "Student logs data types are : StudentId    object\n",
      "Time         object\n",
      "Type         object\n",
      "Action       object\n",
      "dtype: object\n",
      "Student scores data types are : StudentId    object\n",
      "Grade        object\n",
      "dtype: object\n"
     ]
    }
   ],
   "source": [
    "\n",
    "#Check for data types\n",
    "print('Student logs data types are :',student_logs.dtypes)\n",
    "print('Student scores data types are :',student_scores.dtypes)"
   ]
  },
  {
   "cell_type": "code",
   "execution_count": 5,
   "id": "5538519d-90cd-4faa-8f1b-e57913f34c76",
   "metadata": {},
   "outputs": [
    {
     "data": {
      "text/plain": [
       "StudentId    0\n",
       "Time         0\n",
       "Type         0\n",
       "Action       0\n",
       "dtype: int64"
      ]
     },
     "execution_count": 5,
     "metadata": {},
     "output_type": "execute_result"
    }
   ],
   "source": [
    "#Check for missing values\n",
    "\n",
    "student_logs.isnull().sum()\n"
   ]
  },
  {
   "cell_type": "code",
   "execution_count": 6,
   "id": "39ea63d7-08bc-4cd9-897f-4524f55db381",
   "metadata": {},
   "outputs": [
    {
     "data": {
      "text/plain": [
       "StudentId    0\n",
       "Grade        0\n",
       "dtype: int64"
      ]
     },
     "execution_count": 6,
     "metadata": {},
     "output_type": "execute_result"
    }
   ],
   "source": [
    "student_scores.isnull().sum()"
   ]
  },
  {
   "cell_type": "code",
   "execution_count": 7,
   "id": "c6c53d2a-4f57-43c0-a4bf-c8c448e0b979",
   "metadata": {},
   "outputs": [
    {
     "name": "stdout",
     "output_type": "stream",
     "text": [
      "0      False\n",
      "1      False\n",
      "2      False\n",
      "3      False\n",
      "4      False\n",
      "       ...  \n",
      "100    False\n",
      "101    False\n",
      "102    False\n",
      "103    False\n",
      "104    False\n",
      "Length: 105, dtype: bool\n"
     ]
    }
   ],
   "source": [
    "#Check for duplicated student Id's\n",
    "print(student_scores.duplicated())"
   ]
  },
  {
   "cell_type": "markdown",
   "id": "fa615bd0-04c1-45da-be90-a1f152fcad57",
   "metadata": {},
   "source": [
    "\n",
    "\n",
    "### Total Actions Feature ###\n",
    "\n",
    "The total actions feature represents the total number of actions each student performed during the course, reflecting their overall engagement. High activity levels may indicate greater effort and involvement, which can contribute to better grades. This feature helps explore the relationship between engagement and academic performance.\n"
   ]
  },
  {
   "cell_type": "code",
   "execution_count": 8,
   "id": "5fe1d3c7-8582-41d8-9ca9-6ab899f527a8",
   "metadata": {},
   "outputs": [
    {
     "data": {
      "text/html": [
       "<div>\n",
       "<style scoped>\n",
       "    .dataframe tbody tr th:only-of-type {\n",
       "        vertical-align: middle;\n",
       "    }\n",
       "\n",
       "    .dataframe tbody tr th {\n",
       "        vertical-align: top;\n",
       "    }\n",
       "\n",
       "    .dataframe thead th {\n",
       "        text-align: right;\n",
       "    }\n",
       "</style>\n",
       "<table border=\"1\" class=\"dataframe\">\n",
       "  <thead>\n",
       "    <tr style=\"text-align: right;\">\n",
       "      <th></th>\n",
       "      <th>StudentId</th>\n",
       "      <th>Total_Actions</th>\n",
       "    </tr>\n",
       "  </thead>\n",
       "  <tbody>\n",
       "    <tr>\n",
       "      <th>0</th>\n",
       "      <td>0126</td>\n",
       "      <td>126</td>\n",
       "    </tr>\n",
       "    <tr>\n",
       "      <th>1</th>\n",
       "      <td>0139</td>\n",
       "      <td>215</td>\n",
       "    </tr>\n",
       "    <tr>\n",
       "      <th>2</th>\n",
       "      <td>020c</td>\n",
       "      <td>813</td>\n",
       "    </tr>\n",
       "    <tr>\n",
       "      <th>3</th>\n",
       "      <td>026e</td>\n",
       "      <td>400</td>\n",
       "    </tr>\n",
       "    <tr>\n",
       "      <th>4</th>\n",
       "      <td>0326</td>\n",
       "      <td>1565</td>\n",
       "    </tr>\n",
       "    <tr>\n",
       "      <th>...</th>\n",
       "      <td>...</td>\n",
       "      <td>...</td>\n",
       "    </tr>\n",
       "    <tr>\n",
       "      <th>95</th>\n",
       "      <td>d884</td>\n",
       "      <td>145</td>\n",
       "    </tr>\n",
       "    <tr>\n",
       "      <th>96</th>\n",
       "      <td>d969</td>\n",
       "      <td>356</td>\n",
       "    </tr>\n",
       "    <tr>\n",
       "      <th>97</th>\n",
       "      <td>de6f</td>\n",
       "      <td>170</td>\n",
       "    </tr>\n",
       "    <tr>\n",
       "      <th>98</th>\n",
       "      <td>df94</td>\n",
       "      <td>938</td>\n",
       "    </tr>\n",
       "    <tr>\n",
       "      <th>99</th>\n",
       "      <td>e18b</td>\n",
       "      <td>528</td>\n",
       "    </tr>\n",
       "  </tbody>\n",
       "</table>\n",
       "<p>100 rows × 2 columns</p>\n",
       "</div>"
      ],
      "text/plain": [
       "   StudentId  Total_Actions\n",
       "0       0126            126\n",
       "1       0139            215\n",
       "2       020c            813\n",
       "3       026e            400\n",
       "4       0326           1565\n",
       "..       ...            ...\n",
       "95      d884            145\n",
       "96      d969            356\n",
       "97      de6f            170\n",
       "98      df94            938\n",
       "99      e18b            528\n",
       "\n",
       "[100 rows x 2 columns]"
      ]
     },
     "execution_count": 8,
     "metadata": {},
     "output_type": "execute_result"
    }
   ],
   "source": [
    "\n",
    "\n",
    "# grouping the total number of actions each student took creating the new feature Total_Actions.\n",
    "total_actions = student_logs.groupby('StudentId').size().reset_index(name='Total_Actions')\n",
    "total_actions.head(100)\n"
   ]
  },
  {
   "cell_type": "code",
   "execution_count": 9,
   "id": "e6cedcf6-d94d-4647-aa5c-a9facc232deb",
   "metadata": {},
   "outputs": [],
   "source": [
    "\n",
    "# Merging the total actions new fature onto the studentscores dataset on key \n",
    "stud_act_merge = pd.merge(student_scores,total_actions,on = 'StudentId', how = 'left' )"
   ]
  },
  {
   "cell_type": "code",
   "execution_count": 10,
   "id": "04a9542e-f290-4516-8c54-f5d90d85480d",
   "metadata": {},
   "outputs": [
    {
     "data": {
      "text/html": [
       "<div>\n",
       "<style scoped>\n",
       "    .dataframe tbody tr th:only-of-type {\n",
       "        vertical-align: middle;\n",
       "    }\n",
       "\n",
       "    .dataframe tbody tr th {\n",
       "        vertical-align: top;\n",
       "    }\n",
       "\n",
       "    .dataframe thead th {\n",
       "        text-align: right;\n",
       "    }\n",
       "</style>\n",
       "<table border=\"1\" class=\"dataframe\">\n",
       "  <thead>\n",
       "    <tr style=\"text-align: right;\">\n",
       "      <th></th>\n",
       "      <th>StudentId</th>\n",
       "      <th>Grade</th>\n",
       "      <th>Total_Actions</th>\n",
       "    </tr>\n",
       "  </thead>\n",
       "  <tbody>\n",
       "    <tr>\n",
       "      <th>0</th>\n",
       "      <td>c426</td>\n",
       "      <td>2nd</td>\n",
       "      <td>374</td>\n",
       "    </tr>\n",
       "    <tr>\n",
       "      <th>1</th>\n",
       "      <td>8de3</td>\n",
       "      <td>2nd</td>\n",
       "      <td>295</td>\n",
       "    </tr>\n",
       "    <tr>\n",
       "      <th>2</th>\n",
       "      <td>d969</td>\n",
       "      <td>2nd</td>\n",
       "      <td>356</td>\n",
       "    </tr>\n",
       "    <tr>\n",
       "      <th>3</th>\n",
       "      <td>6d29</td>\n",
       "      <td>1st</td>\n",
       "      <td>194</td>\n",
       "    </tr>\n",
       "    <tr>\n",
       "      <th>4</th>\n",
       "      <td>1dd9</td>\n",
       "      <td>1st</td>\n",
       "      <td>261</td>\n",
       "    </tr>\n",
       "  </tbody>\n",
       "</table>\n",
       "</div>"
      ],
      "text/plain": [
       "  StudentId Grade  Total_Actions\n",
       "0      c426   2nd            374\n",
       "1      8de3   2nd            295\n",
       "2      d969   2nd            356\n",
       "3      6d29   1st            194\n",
       "4      1dd9   1st            261"
      ]
     },
     "execution_count": 10,
     "metadata": {},
     "output_type": "execute_result"
    }
   ],
   "source": [
    "stud_act_merge.head()"
   ]
  },
  {
   "cell_type": "code",
   "execution_count": 11,
   "id": "e96882b4-0a95-49db-abf0-f3972c94ffb3",
   "metadata": {},
   "outputs": [
    {
     "name": "stdout",
     "output_type": "stream",
     "text": [
      "Index(['StudentId', 'Grade', 'Total_Actions'], dtype='object')\n"
     ]
    }
   ],
   "source": [
    "print(stud_act_merge.columns)\n"
   ]
  },
  {
   "cell_type": "code",
   "execution_count": 12,
   "id": "05ccd799-03c1-44f0-a1c9-e99f761a13bf",
   "metadata": {},
   "outputs": [
    {
     "data": {
      "image/png": "[encoded data removed]",
      "text/plain": [
       "<Figure size 1000x600 with 1 Axes>"
      ]
     },
     "metadata": {},
     "output_type": "display_data"
    }
   ],
   "source": [
    "\n",
    "\n",
    "#  boxplot to visualise the distribution of total_actions (qauntitative) across different Grades (categories)\n",
    "sns.set(style=\"whitegrid\")\n",
    "plt.figure(figsize=(10, 6))\n",
    "\n",
    "# Plot boxplot where 'Grade' is the categorical variable and 'Total_Actions' is the numerical variable\n",
    "sns.boxplot(x='Grade', y='Total_Actions', data=stud_act_merge, palette='Set2')\n",
    "\n",
    "plt.title('Distribution of Total Actions')\n",
    "plt.xlabel('Grade')\n",
    "plt.ylabel('Total Actions')\n",
    "\n",
    "plt.show()"
   ]
  },
  {
   "cell_type": "markdown",
   "id": "2dcb581e-58f0-42e5-b0df-1ae3d7af8a1b",
   "metadata": {},
   "source": [
    "### Total actions summary ###\n",
    "\n",
    "- **1st Grade**: The boxplot shows students achieving a 1st grade had the widest range of engagement, with some being extremely active and others much less so. High variability in engagement may indicate that engagement alone does not guarantee top performance but is a contributing factor for some.\n",
    "- **2nd Grade**: Students achieving a 2nd grade generally have moderate variability fairly consistent engagement, but there are a few outliers with very high activity levels.\n",
    "- **3rd Grade**: Students in this grade had less variability in engagement, with most clustered around the median and fewer outliers.\n",
    "- **Fail Grade**:Students in the Fail category generally had consistently low engagement, suggesting  the idea that lack of activity is strongly associated with poor performance..\n",
    " "
   ]
  },
  {
   "cell_type": "markdown",
   "id": "43580039-9e2a-4833-ad17-18b1897626d5",
   "metadata": {},
   "source": [
    "## Unique Actions Feature  ##\n",
    "\n",
    "Count of distinct actions that a student performed during the course."
   ]
  },
  {
   "cell_type": "code",
   "execution_count": 13,
   "id": "96fb77fe-b980-4b3e-9eb4-8587702afd1d",
   "metadata": {},
   "outputs": [
    {
     "data": {
      "text/html": [
       "<div>\n",
       "<style scoped>\n",
       "    .dataframe tbody tr th:only-of-type {\n",
       "        vertical-align: middle;\n",
       "    }\n",
       "\n",
       "    .dataframe tbody tr th {\n",
       "        vertical-align: top;\n",
       "    }\n",
       "\n",
       "    .dataframe thead th {\n",
       "        text-align: right;\n",
       "    }\n",
       "</style>\n",
       "<table border=\"1\" class=\"dataframe\">\n",
       "  <thead>\n",
       "    <tr style=\"text-align: right;\">\n",
       "      <th></th>\n",
       "      <th>StudentId</th>\n",
       "      <th>Grade</th>\n",
       "      <th>Unique_Actions</th>\n",
       "    </tr>\n",
       "  </thead>\n",
       "  <tbody>\n",
       "    <tr>\n",
       "      <th>100</th>\n",
       "      <td>9673</td>\n",
       "      <td>3rd</td>\n",
       "      <td>9</td>\n",
       "    </tr>\n",
       "    <tr>\n",
       "      <th>101</th>\n",
       "      <td>5867</td>\n",
       "      <td>3rd</td>\n",
       "      <td>22</td>\n",
       "    </tr>\n",
       "    <tr>\n",
       "      <th>102</th>\n",
       "      <td>8976</td>\n",
       "      <td>2nd</td>\n",
       "      <td>14</td>\n",
       "    </tr>\n",
       "    <tr>\n",
       "      <th>103</th>\n",
       "      <td>56fe</td>\n",
       "      <td>Fail</td>\n",
       "      <td>17</td>\n",
       "    </tr>\n",
       "    <tr>\n",
       "      <th>104</th>\n",
       "      <td>1d56</td>\n",
       "      <td>2nd</td>\n",
       "      <td>16</td>\n",
       "    </tr>\n",
       "  </tbody>\n",
       "</table>\n",
       "</div>"
      ],
      "text/plain": [
       "    StudentId Grade  Unique_Actions\n",
       "100      9673   3rd               9\n",
       "101      5867   3rd              22\n",
       "102      8976   2nd              14\n",
       "103      56fe  Fail              17\n",
       "104      1d56   2nd              16"
      ]
     },
     "execution_count": 13,
     "metadata": {},
     "output_type": "execute_result"
    }
   ],
   "source": [
    "\n",
    "\n",
    "# Implementing the unique feature which captures the diversity of the actions taken by the student\n",
    "unique_actions = student_logs.groupby('StudentId')['Action'].nunique().reset_index(name ='Unique_Actions')\n",
    "\n",
    "# Merging the unique actions feature onto the student_scores dataset on 'StudentId'\n",
    "stud_uni_merge = pd.merge(student_scores, unique_actions, on = 'StudentId', how ='left')\n",
    "\n",
    "\n",
    "stud_uni_merge.tail(5)\n"
   ]
  },
  {
   "cell_type": "code",
   "execution_count": 14,
   "id": "2fe3f59c-68ad-43b8-b895-b8dffb860137",
   "metadata": {},
   "outputs": [
    {
     "data": {
      "image/png": "[encoded data removed]",
      "text/plain": [
       "<Figure size 1000x600 with 1 Axes>"
      ]
     },
     "metadata": {},
     "output_type": "display_data"
    }
   ],
   "source": [
    "# histogram  to visualise the distribution of unique_actions   \n",
    "\n",
    "sns.set(style = \"whitegrid\")\n",
    "plt.figure(figsize = (10, 6))\n",
    "plt.hist(stud_uni_merge['Unique_Actions'], bins=20, color='purple', edgecolor='black')\n",
    "\n",
    "# title and labels for the plot\n",
    "plt.title('Distribution of Unique Actions across All Students')\n",
    "plt.xlabel('Unique Actions')\n",
    "plt.ylabel('Frequency')\n",
    "\n",
    "\n",
    "plt.show()"
   ]
  },
  {
   "cell_type": "markdown",
   "id": "227ee690-f7ce-4407-a705-740933feb8b8",
   "metadata": {},
   "source": [
    "## Average action Gap ##\n",
    "\n",
    "The average time gap between consecutive actions. Smaller gaps may indicate\n",
    "consistent effort.\n"
   ]
  },
  {
   "cell_type": "code",
   "execution_count": 15,
   "id": "b92aebe4-90e5-4688-b382-cbb26565dcc0",
   "metadata": {},
   "outputs": [
    {
     "name": "stderr",
     "output_type": "stream",
     "text": [
      "C:\\Users\\Clint Muzanenhamo\\AppData\\Local\\Temp\\ipykernel_20712\\914509166.py:2: UserWarning: Could not infer format, so each element will be parsed individually, falling back to `dateutil`. To ensure parsing is consistent and as-expected, please specify a format.\n",
      "  student_logs['Time'] = pd.to_datetime(student_logs['Time'])\n"
     ]
    },
    {
     "data": {
      "text/html": [
       "<div>\n",
       "<style scoped>\n",
       "    .dataframe tbody tr th:only-of-type {\n",
       "        vertical-align: middle;\n",
       "    }\n",
       "\n",
       "    .dataframe tbody tr th {\n",
       "        vertical-align: top;\n",
       "    }\n",
       "\n",
       "    .dataframe thead th {\n",
       "        text-align: right;\n",
       "    }\n",
       "</style>\n",
       "<table border=\"1\" class=\"dataframe\">\n",
       "  <thead>\n",
       "    <tr style=\"text-align: right;\">\n",
       "      <th></th>\n",
       "      <th>StudentId</th>\n",
       "      <th>Grade</th>\n",
       "      <th>Unique_Actions</th>\n",
       "      <th>Avg_Action_Gap</th>\n",
       "    </tr>\n",
       "  </thead>\n",
       "  <tbody>\n",
       "    <tr>\n",
       "      <th>0</th>\n",
       "      <td>c426</td>\n",
       "      <td>2nd</td>\n",
       "      <td>13</td>\n",
       "      <td>2676.391421</td>\n",
       "    </tr>\n",
       "    <tr>\n",
       "      <th>1</th>\n",
       "      <td>8de3</td>\n",
       "      <td>2nd</td>\n",
       "      <td>13</td>\n",
       "      <td>2805.846939</td>\n",
       "    </tr>\n",
       "    <tr>\n",
       "      <th>2</th>\n",
       "      <td>d969</td>\n",
       "      <td>2nd</td>\n",
       "      <td>17</td>\n",
       "      <td>2680.966197</td>\n",
       "    </tr>\n",
       "    <tr>\n",
       "      <th>3</th>\n",
       "      <td>6d29</td>\n",
       "      <td>1st</td>\n",
       "      <td>14</td>\n",
       "      <td>4931.300518</td>\n",
       "    </tr>\n",
       "    <tr>\n",
       "      <th>4</th>\n",
       "      <td>1dd9</td>\n",
       "      <td>1st</td>\n",
       "      <td>13</td>\n",
       "      <td>3656.296154</td>\n",
       "    </tr>\n",
       "  </tbody>\n",
       "</table>\n",
       "</div>"
      ],
      "text/plain": [
       "  StudentId Grade  Unique_Actions  Avg_Action_Gap\n",
       "0      c426   2nd              13     2676.391421\n",
       "1      8de3   2nd              13     2805.846939\n",
       "2      d969   2nd              17     2680.966197\n",
       "3      6d29   1st              14     4931.300518\n",
       "4      1dd9   1st              13     3656.296154"
      ]
     },
     "execution_count": 15,
     "metadata": {},
     "output_type": "execute_result"
    }
   ],
   "source": [
    "\n",
    "\n",
    "#Conversion of the time column  into datetime format\n",
    "student_logs['Time'] = pd.to_datetime(student_logs['Time'])\n",
    "\n",
    "# Sorting the dataset by 'StudentId' and 'Time'\n",
    "student_logs1 = student_logs.sort_values(by=['StudentId', 'Time'])\n",
    "\n",
    "# Calculation of the time differences for each student's actions\n",
    "student_logs1['Time_Difference'] = student_logs1.groupby('StudentId')['Time'].diff()\n",
    "\n",
    "# Calculation of the average time gap for each student\n",
    "average_action_gap = student_logs1.groupby('StudentId')['Time_Difference'].mean().reset_index(name='Avg_Action_Gap')\n",
    "\n",
    "# removing missing values and converting to minutes\n",
    "average_action_gap['Avg_Action_Gap'] = average_action_gap['Avg_Action_Gap'].dt.total_seconds() / 60  # Convert to minutes\n",
    "\n",
    "# Merging with the main dataset\n",
    "stud_avg_gap_merge = pd.merge(stud_uni_merge, average_action_gap, on='StudentId', how='left')\n",
    "\n",
    "stud_avg_gap_merge.head()\n"
   ]
  },
  {
   "cell_type": "code",
   "execution_count": 16,
   "id": "4a638ea6-58e8-47c4-ac8a-6b53bcc09f17",
   "metadata": {},
   "outputs": [
    {
     "data": {
      "image/png": "[encoded data removed]",
      "text/plain": [
       "<Figure size 1000x600 with 1 Axes>"
      ]
     },
     "metadata": {},
     "output_type": "display_data"
    }
   ],
   "source": [
    "\n",
    "#Scatterplot for relationship between average action gap and grades\n",
    "# Style for the plotts\n",
    "sns.set(style=\"whitegrid\")\n",
    "\n",
    "plt.figure(figsize=(10, 6))\n",
    "\n",
    "sns.scatterplot(data=stud_avg_gap_merge,x='Avg_Action_Gap',y='Grade',hue='Grade',palette='Set2',s=100,  \n",
    "    edgecolor='black'\n",
    ")\n",
    "plt.title('Relationship Between Average Action Gap and Grades')\n",
    "plt.xlabel('Average Action Gap (minutes)')\n",
    "plt.ylabel('Grade')\n",
    "\n",
    "plt.show()\n"
   ]
  },
  {
   "cell_type": "markdown",
   "id": "27b2b073-92d3-49c0-a1ba-90abcea07236",
   "metadata": {},
   "source": [
    " ## Average action gap summary ## \n",
    "\n",
    " - 1st Grade: There are small clusters around the 1000-minute mark, with increasing variability as the average action gap grows. This suggests that consistent engagement (smaller gaps) is associated with higher grades, though not exclusively.\n",
    " - 2nd/3rd Grade: Similar clustering around 1000 minutes indicates a comparable trend, with students showing smaller gaps often achieving better grades.\n",
    " - Fail Grade: Most students have small action gaps, but a few outliers exhibit significantly larger gaps above 3000 minutes, potentially reflecting irregular or insufficient engagement.\n",
    "\n",
    "These observations suggest that a smaller average action gaps might correlate with better academic performance, reflecting consistent effort and engagement.\n",
    " "
   ]
  },
  {
   "cell_type": "markdown",
   "id": "be1e3979-a9a9-41db-b6e6-17e4f85c1099",
   "metadata": {},
   "source": [
    "## Count of active weeks ##\n",
    "\n",
    "Count of the number of weeks a student was active during the course. This provides insight into how consistently the student participated throughout the course duration."
   ]
  },
  {
   "cell_type": "code",
   "execution_count": 17,
   "id": "1c98c9de-f1dc-49be-a240-b8ae8a240e07",
   "metadata": {},
   "outputs": [
    {
     "data": {
      "text/html": [
       "<div>\n",
       "<style scoped>\n",
       "    .dataframe tbody tr th:only-of-type {\n",
       "        vertical-align: middle;\n",
       "    }\n",
       "\n",
       "    .dataframe tbody tr th {\n",
       "        vertical-align: top;\n",
       "    }\n",
       "\n",
       "    .dataframe thead th {\n",
       "        text-align: right;\n",
       "    }\n",
       "</style>\n",
       "<table border=\"1\" class=\"dataframe\">\n",
       "  <thead>\n",
       "    <tr style=\"text-align: right;\">\n",
       "      <th></th>\n",
       "      <th>StudentId</th>\n",
       "      <th>Grade</th>\n",
       "      <th>Unique_Actions</th>\n",
       "      <th>Active_Weeks</th>\n",
       "    </tr>\n",
       "  </thead>\n",
       "  <tbody>\n",
       "    <tr>\n",
       "      <th>0</th>\n",
       "      <td>c426</td>\n",
       "      <td>2nd</td>\n",
       "      <td>13</td>\n",
       "      <td>37</td>\n",
       "    </tr>\n",
       "    <tr>\n",
       "      <th>1</th>\n",
       "      <td>8de3</td>\n",
       "      <td>2nd</td>\n",
       "      <td>13</td>\n",
       "      <td>23</td>\n",
       "    </tr>\n",
       "    <tr>\n",
       "      <th>2</th>\n",
       "      <td>d969</td>\n",
       "      <td>2nd</td>\n",
       "      <td>17</td>\n",
       "      <td>23</td>\n",
       "    </tr>\n",
       "    <tr>\n",
       "      <th>3</th>\n",
       "      <td>6d29</td>\n",
       "      <td>1st</td>\n",
       "      <td>14</td>\n",
       "      <td>12</td>\n",
       "    </tr>\n",
       "    <tr>\n",
       "      <th>4</th>\n",
       "      <td>1dd9</td>\n",
       "      <td>1st</td>\n",
       "      <td>13</td>\n",
       "      <td>19</td>\n",
       "    </tr>\n",
       "  </tbody>\n",
       "</table>\n",
       "</div>"
      ],
      "text/plain": [
       "  StudentId Grade  Unique_Actions  Active_Weeks\n",
       "0      c426   2nd              13            37\n",
       "1      8de3   2nd              13            23\n",
       "2      d969   2nd              17            23\n",
       "3      6d29   1st              14            12\n",
       "4      1dd9   1st              13            19"
      ]
     },
     "execution_count": 17,
     "metadata": {},
     "output_type": "execute_result"
    }
   ],
   "source": [
    "\n",
    "\n",
    "# Extracting the week from the time column\n",
    "student_logs['Week'] = student_logs['Time'].dt.isocalendar().week\n",
    "\n",
    "# Count of the number of unique weeks each student was active\n",
    "active_weeks = student_logs.groupby('StudentId')['Week'].nunique().reset_index(name='Active_Weeks')\n",
    "# Merging with the main dataset\n",
    "student_act_wks_merge = pd.merge(stud_uni_merge, active_weeks, on='StudentId', how='left')\n",
    "\n",
    "student_act_wks_merge.head()\n"
   ]
  },
  {
   "cell_type": "code",
   "execution_count": 18,
   "id": "99bde742-c86a-4bfc-8bea-b9910c572747",
   "metadata": {},
   "outputs": [
    {
     "data": {
      "image/png": "[encoded data removed]",
      "text/plain": [
       "<Figure size 1000x600 with 1 Axes>"
      ]
     },
     "metadata": {},
     "output_type": "display_data"
    }
   ],
   "source": [
    "\n",
    "# Histogram of active weeks\n",
    "plt.figure(figsize=(10, 6))\n",
    "plt.hist(active_weeks['Active_Weeks'], bins=10, color='blue', edgecolor='black')\n",
    "plt.title('Distribution of Active Weeks')\n",
    "plt.xlabel('Active Weeks')\n",
    "plt.ylabel('Frequency')\n",
    "plt.show()\n"
   ]
  },
  {
   "cell_type": "markdown",
   "id": "1da9b4f5-48a2-4ca5-82e9-67123edd6f68",
   "metadata": {},
   "source": [
    "\n",
    "## Count of active weeks summary ##\n",
    "\n",
    "The histogram of Active Weeks reveals most students exhibit activity around the 30 week mark, with a sharp rise in frequency. The distribution starts low, gradually increasing peaking at approximately 30 weeks, and then tapers off. This suggests that a majority of students engage consistently for the full course duration, while fewer students remain active for shorter or longer periods.\n"
   ]
  },
  {
   "cell_type": "markdown",
   "id": "a38348b6-3788-4dbe-9d00-5e519d76c31b",
   "metadata": {},
   "source": [
    "\n",
    "## Early Engagement ##\n",
    "\n",
    "Count of the number of actions performed in the first 25% of the course duration . High early engagement may indicate a proactive student."
   ]
  },
  {
   "cell_type": "code",
   "execution_count": 19,
   "id": "ff81aea3-ac68-4b76-a02f-69cdd42c0ee7",
   "metadata": {},
   "outputs": [
    {
     "ename": "NameError",
     "evalue": "name 'stud_active_weeks_merge' is not defined",
     "output_type": "error",
     "traceback": [
      "\u001b[1;31m---------------------------------------------------------------------------\u001b[0m",
      "\u001b[1;31mNameError\u001b[0m                                 Traceback (most recent call last)",
      "Cell \u001b[1;32mIn[19], line 13\u001b[0m\n\u001b[0;32m     11\u001b[0m \u001b[38;5;66;03m# The actions count per student during the early engagement period\u001b[39;00m\n\u001b[0;32m     12\u001b[0m early_engagement \u001b[38;5;241m=\u001b[39m early_actions\u001b[38;5;241m.\u001b[39mgroupby(\u001b[38;5;124m'\u001b[39m\u001b[38;5;124mStudentId\u001b[39m\u001b[38;5;124m'\u001b[39m)\u001b[38;5;241m.\u001b[39msize()\u001b[38;5;241m.\u001b[39mreset_index(name\u001b[38;5;241m=\u001b[39m\u001b[38;5;124m'\u001b[39m\u001b[38;5;124mEarly_Engagement\u001b[39m\u001b[38;5;124m'\u001b[39m)\n\u001b[1;32m---> 13\u001b[0m stud_early_engagement_merge \u001b[38;5;241m=\u001b[39m pd\u001b[38;5;241m.\u001b[39mmerge(stud_active_weeks_merge, early_engagement, on \u001b[38;5;241m=\u001b[39m\u001b[38;5;124m'\u001b[39m\u001b[38;5;124mStudentId\u001b[39m\u001b[38;5;124m'\u001b[39m, how \u001b[38;5;241m=\u001b[39m\u001b[38;5;124m'\u001b[39m\u001b[38;5;124mleft\u001b[39m\u001b[38;5;124m'\u001b[39m)\n\u001b[0;32m     15\u001b[0m stud_early_engagement_merge\u001b[38;5;241m.\u001b[39mhead()\n",
      "\u001b[1;31mNameError\u001b[0m: name 'stud_active_weeks_merge' is not defined"
     ]
    }
   ],
   "source": [
    "## Count of active weeks summary \n",
    "\n",
    "# implementation of the total course duration\n",
    "start_date = student_logs['Time'].min()\n",
    "end_date = student_logs['Time'].max()\n",
    "early_cutoff = start_date + (end_date - start_date) * 0.25\n",
    "\n",
    "# Extraction of the actions within the first 25% of the course duration\n",
    "early_actions = student_logs[student_logs['Time'] <= early_cutoff]\n",
    "\n",
    "# The actions count per student during the early engagement period\n",
    "early_engagement = early_actions.groupby('StudentId').size().reset_index(name='Early_Engagement')\n",
    "stud_early_engagement_merge = pd.merge(stud_active_weeks_merge, early_engagement, on ='StudentId', how ='left')\n",
    "\n",
    "stud_early_engagement_merge.head()\n"
   ]
  },
  {
   "cell_type": "code",
   "execution_count": null,
   "id": "a6751b29-0be3-4300-9711-caf1b1535995",
   "metadata": {},
   "outputs": [
    {
     "data": {
      "image/png": "[encoded data removed]",
      "text/plain": [
       "<Figure size 1000x600 with 1 Axes>"
      ]
     },
     "metadata": {},
     "output_type": "display_data"
    }
   ],
   "source": [
    "# Barplot of Early Engagement vs Grades\n",
    "plt.figure(figsize=(10, 6))\n",
    "sns.barplot(x='Grade', y='Early_Engagement', data=stud_early_engagement_merge, palette='Set2')\n",
    "plt.title('Early Engagement vs Grade')\n",
    "plt.xlabel('Grade')\n",
    "plt.ylabel('Average Early Engagement (Number of Actions)')\n",
    "plt.show()\n"
   ]
  },
  {
   "cell_type": "markdown",
   "id": "8e7fdb5e-85d9-42d4-bd34-002cee64beb2",
   "metadata": {},
   "source": [
    "## Early Engagement Summary ## \n",
    "\n",
    "The bar plot of early engagement shows that students with higher grades, such as those in the 1st and 2nd grades, tend to have a similar average number of actions, around 45, with a long error bar, indicating variability in their engagement within the first quarter.\n",
    "In contrast, students in the 3rd grade and those who failed have higher early engagement in the first quarter of the course, yet still underperformed. \n",
    "This suggests that while early engagement is important, it alone does not guarantee success. \n",
    "The variability within grades, as reflected in the error bars, indicates that other factors beyond early activity levels likely contribute to overall performance."
   ]
  },
  {
   "cell_type": "code",
   "execution_count": null,
   "id": "852dd271-f800-4728-904f-a1bcae6661d8",
   "metadata": {},
   "outputs": [
    {
     "name": "stdout",
     "output_type": "stream",
     "text": [
      "Index(['StudentId', 'Grade', 'Unique_Actions', 'Active_Weeks',\n",
      "       'Early_Engagement'],\n",
      "      dtype='object')\n"
     ]
    }
   ],
   "source": [
    "print(stud_early_engagement_merge.columns)"
   ]
  },
  {
   "cell_type": "code",
   "execution_count": null,
   "id": "53b8c866-5c66-4546-bda6-7568fa74211c",
   "metadata": {},
   "outputs": [
    {
     "data": {
      "text/html": [
       "<div>\n",
       "<style scoped>\n",
       "    .dataframe tbody tr th:only-of-type {\n",
       "        vertical-align: middle;\n",
       "    }\n",
       "\n",
       "    .dataframe tbody tr th {\n",
       "        vertical-align: top;\n",
       "    }\n",
       "\n",
       "    .dataframe thead th {\n",
       "        text-align: right;\n",
       "    }\n",
       "</style>\n",
       "<table border=\"1\" class=\"dataframe\">\n",
       "  <thead>\n",
       "    <tr style=\"text-align: right;\">\n",
       "      <th></th>\n",
       "      <th>StudentId</th>\n",
       "      <th>Grade</th>\n",
       "      <th>Unique_Actions</th>\n",
       "      <th>Active_Weeks</th>\n",
       "      <th>Early_Engagement</th>\n",
       "      <th>Total_Actions</th>\n",
       "      <th>Avg_Action_Gap</th>\n",
       "    </tr>\n",
       "  </thead>\n",
       "  <tbody>\n",
       "    <tr>\n",
       "      <th>0</th>\n",
       "      <td>c426</td>\n",
       "      <td>2nd</td>\n",
       "      <td>13</td>\n",
       "      <td>37</td>\n",
       "      <td>62.0</td>\n",
       "      <td>374</td>\n",
       "      <td>2676.391421</td>\n",
       "    </tr>\n",
       "    <tr>\n",
       "      <th>1</th>\n",
       "      <td>8de3</td>\n",
       "      <td>2nd</td>\n",
       "      <td>13</td>\n",
       "      <td>23</td>\n",
       "      <td>1.0</td>\n",
       "      <td>295</td>\n",
       "      <td>2805.846939</td>\n",
       "    </tr>\n",
       "    <tr>\n",
       "      <th>2</th>\n",
       "      <td>d969</td>\n",
       "      <td>2nd</td>\n",
       "      <td>17</td>\n",
       "      <td>23</td>\n",
       "      <td>6.0</td>\n",
       "      <td>356</td>\n",
       "      <td>2680.966197</td>\n",
       "    </tr>\n",
       "    <tr>\n",
       "      <th>3</th>\n",
       "      <td>6d29</td>\n",
       "      <td>1st</td>\n",
       "      <td>14</td>\n",
       "      <td>12</td>\n",
       "      <td>4.0</td>\n",
       "      <td>194</td>\n",
       "      <td>4931.300518</td>\n",
       "    </tr>\n",
       "    <tr>\n",
       "      <th>4</th>\n",
       "      <td>1dd9</td>\n",
       "      <td>1st</td>\n",
       "      <td>13</td>\n",
       "      <td>19</td>\n",
       "      <td>3.0</td>\n",
       "      <td>261</td>\n",
       "      <td>3656.296154</td>\n",
       "    </tr>\n",
       "    <tr>\n",
       "      <th>...</th>\n",
       "      <td>...</td>\n",
       "      <td>...</td>\n",
       "      <td>...</td>\n",
       "      <td>...</td>\n",
       "      <td>...</td>\n",
       "      <td>...</td>\n",
       "      <td>...</td>\n",
       "    </tr>\n",
       "    <tr>\n",
       "      <th>95</th>\n",
       "      <td>8b7a</td>\n",
       "      <td>Fail</td>\n",
       "      <td>26</td>\n",
       "      <td>31</td>\n",
       "      <td>52.0</td>\n",
       "      <td>704</td>\n",
       "      <td>1414.556188</td>\n",
       "    </tr>\n",
       "    <tr>\n",
       "      <th>96</th>\n",
       "      <td>df94</td>\n",
       "      <td>3rd</td>\n",
       "      <td>30</td>\n",
       "      <td>36</td>\n",
       "      <td>75.0</td>\n",
       "      <td>938</td>\n",
       "      <td>918.906083</td>\n",
       "    </tr>\n",
       "    <tr>\n",
       "      <th>97</th>\n",
       "      <td>57df</td>\n",
       "      <td>2nd</td>\n",
       "      <td>21</td>\n",
       "      <td>30</td>\n",
       "      <td>53.0</td>\n",
       "      <td>671</td>\n",
       "      <td>1417.229851</td>\n",
       "    </tr>\n",
       "    <tr>\n",
       "      <th>98</th>\n",
       "      <td>8857</td>\n",
       "      <td>3rd</td>\n",
       "      <td>25</td>\n",
       "      <td>20</td>\n",
       "      <td>20.0</td>\n",
       "      <td>459</td>\n",
       "      <td>2072.655022</td>\n",
       "    </tr>\n",
       "    <tr>\n",
       "      <th>99</th>\n",
       "      <td>c910</td>\n",
       "      <td>Fail</td>\n",
       "      <td>14</td>\n",
       "      <td>25</td>\n",
       "      <td>33.0</td>\n",
       "      <td>400</td>\n",
       "      <td>2489.438596</td>\n",
       "    </tr>\n",
       "  </tbody>\n",
       "</table>\n",
       "<p>100 rows × 7 columns</p>\n",
       "</div>"
      ],
      "text/plain": [
       "   StudentId Grade  Unique_Actions  Active_Weeks  Early_Engagement  \\\n",
       "0       c426   2nd              13            37              62.0   \n",
       "1       8de3   2nd              13            23               1.0   \n",
       "2       d969   2nd              17            23               6.0   \n",
       "3       6d29   1st              14            12               4.0   \n",
       "4       1dd9   1st              13            19               3.0   \n",
       "..       ...   ...             ...           ...               ...   \n",
       "95      8b7a  Fail              26            31              52.0   \n",
       "96      df94   3rd              30            36              75.0   \n",
       "97      57df   2nd              21            30              53.0   \n",
       "98      8857   3rd              25            20              20.0   \n",
       "99      c910  Fail              14            25              33.0   \n",
       "\n",
       "    Total_Actions  Avg_Action_Gap  \n",
       "0             374     2676.391421  \n",
       "1             295     2805.846939  \n",
       "2             356     2680.966197  \n",
       "3             194     4931.300518  \n",
       "4             261     3656.296154  \n",
       "..            ...             ...  \n",
       "95            704     1414.556188  \n",
       "96            938      918.906083  \n",
       "97            671     1417.229851  \n",
       "98            459     2072.655022  \n",
       "99            400     2489.438596  \n",
       "\n",
       "[100 rows x 7 columns]"
      ]
     },
     "execution_count": 146,
     "metadata": {},
     "output_type": "execute_result"
    }
   ],
   "source": [
    "# Adding all the new features to the final dataset\n",
    "final_dataset = pd.merge(stud_early_engagement_merge, stud_act_merge[['StudentId', 'Total_Actions']], on ='StudentId', how='left')\n",
    "final_dataset = pd.merge(final_dataset, stud_avg_gap_merge[['StudentId', 'Avg_Action_Gap']], on ='StudentId', how ='left')\n",
    "\n",
    "# final dataset with all the computed features\n",
    "final_dataset.head(100)\n"
   ]
  },
  {
   "cell_type": "code",
   "execution_count": null,
   "id": "5a42e2bc-ecc8-47b4-8ce6-46bf95533290",
   "metadata": {},
   "outputs": [],
   "source": []
  }
 ],
 "metadata": {
  "kernelspec": {
   "display_name": "base",
   "language": "python",
   "name": "python3"
  },
  "language_info": {
   "codemirror_mode": {
    "name": "ipython",
    "version": 3
   },
   "file_extension": ".py",
   "mimetype": "text/x-python",
   "name": "python",
   "nbconvert_exporter": "python",
   "pygments_lexer": "ipython3",
   "version": "3.11.5"
  }
 },
 "nbformat": 4,
 "nbformat_minor": 5
}
